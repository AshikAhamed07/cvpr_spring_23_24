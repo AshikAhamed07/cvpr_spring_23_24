{
 "cells": [
  {
   "cell_type": "code",
   "execution_count": 26,
   "id": "641ca037",
   "metadata": {},
   "outputs": [
    {
     "name": "stdout",
     "output_type": "stream",
     "text": [
      "List: [1, 2, 3, 4, 5, 6, 7, 8, 9, 10, 1, 4, 9, 16, 25, 36, 49, 64, 81, 100]\n",
      "Sum of all elements: 440\n"
     ]
    }
   ],
   "source": [
    "numbers = list(range(1, 11))\n",
    "squares = [num ** 2 for num in numbers] # Append  square of each number \n",
    "numbers.extend(squares)\n",
    "sum_of_elements = sum(numbers)\n",
    "print(\"List:\", numbers)\n",
    "print(\"Sum of all elements:\", sum_of_elements)"
   ]
  },
  {
   "cell_type": "code",
   "execution_count": 30,
   "id": "545df807",
   "metadata": {},
   "outputs": [
    {
     "name": "stdout",
     "output_type": "stream",
     "text": [
      "Tuple: (2, 4, 6, 8, 10)\n",
      "Product of all elements: 3840\n"
     ]
    }
   ],
   "source": [
    "even_numbers = (2, 4, 6, 8, 10)\n",
    "product_of_elements = 1 # this variable is created to accumulate the product of all elements\n",
    "for num in even_numbers: #The product of each element is multiplied with the product_of_elements \n",
    "    product_of_elements *= num \n",
    "print(\"Tuple:\", even_numbers)\n",
    "print(\"Product of all elements:\", product_of_elements) "
   ]
  },
  {
   "cell_type": "code",
   "execution_count": 25,
   "id": "32f6c821",
   "metadata": {},
   "outputs": [
    {
     "name": "stdout",
     "output_type": "stream",
     "text": [
      "Union of the two sets: {1, 3, 5, 7, 9}\n",
      "Intersection of the two sets: {1, 3, 5, 7}\n"
     ]
    }
   ],
   "source": [
    "set1 = {1, 3, 5, 7, 9}\n",
    "set2 = {1, 3, 5, 7}\n",
    "union_set = set1.union(set2) #The union method is used to find the union of set1 and set2\n",
    "print(\"Union of the two sets:\", union_set)\n",
    "intersection_set = set1.intersection(set2)\n",
    "print(\"Intersection of the two sets:\", intersection_set)"
   ]
  },
  {
   "cell_type": "code",
   "execution_count": 27,
   "id": "00362f23",
   "metadata": {},
   "outputs": [
    {
     "name": "stdout",
     "output_type": "stream",
     "text": [
      "Dictionary: {'a': 97, 'b': 98, 'c': 99, 'd': 100, 'e': 101}\n"
     ]
    }
   ],
   "source": [
    "alphabet_dict = {chr(ord('a') + i): ord('a') + i for i in range(5)} #uses a dictionary comprehension to create a dictionary\n",
    "print(\"Dictionary:\", alphabet_dict)#this ismapping of the first five lowercase alphabets to their ASCII values."
   ]
  },
  {
   "cell_type": "code",
   "execution_count": 28,
   "id": "da5acebd",
   "metadata": {},
   "outputs": [
    {
     "name": "stdout",
     "output_type": "stream",
     "text": [
      "Original List: [1, 2, 3, 4, 5, 6, 7, 8, 9, 10]\n",
      "Squared List: [1, 4, 9, 16, 25, 36, 49, 64, 81, 100]\n"
     ]
    }
   ],
   "source": [
    "def square(x):\n",
    "    return x ** 2\n",
    "numbers = list(range(1, 11))\n",
    "result = map(square, numbers)#to apply the square function to each element in the numbers list\n",
    "print(\"Original List:\", numbers)\n",
    "print(\"Squared List:\", list(result))"
   ]
  },
  {
   "cell_type": "code",
   "execution_count": null,
   "id": "395910b4",
   "metadata": {},
   "outputs": [],
   "source": []
  }
 ],
 "metadata": {
  "kernelspec": {
   "display_name": "Python 3 (ipykernel)",
   "language": "python",
   "name": "python3"
  },
  "language_info": {
   "codemirror_mode": {
    "name": "ipython",
    "version": 3
   },
   "file_extension": ".py",
   "mimetype": "text/x-python",
   "name": "python",
   "nbconvert_exporter": "python",
   "pygments_lexer": "ipython3",
   "version": "3.11.5"
  }
 },
 "nbformat": 4,
 "nbformat_minor": 5
}
